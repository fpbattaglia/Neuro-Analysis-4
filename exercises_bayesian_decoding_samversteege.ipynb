{
 "cells": [
  {
   "cell_type": "markdown",
   "metadata": {},
   "source": [
    "# Exercises"
   ]
  },
  {
   "cell_type": "markdown",
   "metadata": {},
   "source": [
    "### Code for data generation"
   ]
  },
  {
   "cell_type": "code",
   "execution_count": 1,
   "metadata": {},
   "outputs": [],
   "source": [
    "import numpy as np\n",
    "np.random.seed(0)\n",
    "import scipy\n",
    "import scipy.stats\n",
    "import scipy.io\n",
    "import matplotlib\n",
    "import matplotlib.pyplot as plt\n",
    "from tqdm import tqdm\n",
    "import seaborn as sns\n",
    "sns.set_theme(context='notebook',style='white',font_scale=1.5,\n",
    "              rc = {'axes.spines.top':False,'axes.spines.right':False})\n",
    "\n",
    "\n",
    "%matplotlib inline \n",
    "plt.rcParams['figure.figsize'] = [10, 5]\n",
    "from ipywidgets import interact\n",
    "import ipywidgets as widgets\n",
    "\n",
    "from scipy.stats import poisson\n",
    "\n",
    "track_length = 200. # the length of our linear track (eg in centimeter)\n",
    "average_firing_rate = 5 # the peak firing rate, averaged across the population \n",
    "n_cells = 100 # how many cells we are recording\n",
    "pf_centers = np.random.rand(n_cells) * track_length # the centers of the place fields for all cells drawn randomly with a uniform distribution on the track\n",
    "pf_size = np.random.gamma(10, size=n_cells) # the size (width) of the place fields, drawn randomly from a gamma distribution \n",
    "pf_rate = np.random.exponential(scale=average_firing_rate, size=n_cells) # the peak firing rate for each cell, drawn from an exponential distribution"
   ]
  },
  {
   "cell_type": "code",
   "execution_count": 2,
   "metadata": {},
   "outputs": [],
   "source": [
    "bins = np.arange(0., 200.)\n",
    "true_firing_rate_maps = np.zeros((n_cells, len(bins)))\n",
    "for i in range(n_cells):\n",
    "    true_firing_rate_maps[i,:] = pf_rate[i] * np.exp(-((bins-pf_centers[i])**2)/(2*pf_size[i]**2))"
   ]
  },
  {
   "cell_type": "code",
   "execution_count": 3,
   "metadata": {},
   "outputs": [],
   "source": [
    "# GENERATE TRAJECTORY\n",
    "\n",
    "n_runs = 10\n",
    "use_stops = False\n",
    "av_running_speed = 10 # the average running speed (in cm/s)\n",
    "fps = 10 # the number of \"video frames\" per second \n",
    "running_speed_a = np.random.chisquare(10, size=n_runs) # running speed in the two directions\n",
    "running_speed_b = np.random.chisquare(10, size=n_runs) \n",
    "\n",
    "stopping_time_a = np.random.chisquare(15, size=n_runs) # the time the mouse will spend at the two ends of the track\n",
    "stopping_time_b = np.random.chisquare(15, size=n_runs)\n",
    "\n",
    "x = np.array([])\n",
    "\n",
    "\n",
    "for i in range(n_runs):\n",
    "    stop1 = np.ones((int(stopping_time_a[i]*fps),)) * 0.\n",
    "    run_length = len(bins) * fps / running_speed_a[i]\n",
    "    run1 = np.linspace(0., float(len(bins)-1), int(run_length))\n",
    "    stop2 = np.ones((int(stopping_time_b[i]*fps),)) * (len(bins)-1.)\n",
    "    run_length = len(bins) * fps / running_speed_b[i]\n",
    "    run2 = np.linspace(len(bins)-1., 0., int(run_length))\n",
    "    if use_stops:\n",
    "        x = np.concatenate((x, stop1, run1, stop2, run2))\n",
    "    else:\n",
    "         x = np.concatenate((x, run1, run2))\n",
    "t = np.arange(len(x))/fps"
   ]
  },
  {
   "cell_type": "code",
   "execution_count": 4,
   "metadata": {},
   "outputs": [],
   "source": [
    "sampling_rate = 10000.\n",
    "t_sampling = np.arange(0, t[-1], 1. / sampling_rate)\n",
    "x_sampling = np.floor(np.interp(t_sampling, t, x))\n",
    "noise_firing_rate = 0.1 # the baseline noise firing rate\n",
    "spikes = []\n",
    "\n",
    "for i in range(n_cells):\n",
    "    inst_rate = true_firing_rate_maps[i,x_sampling.astype(np.int32)] + noise_firing_rate\n",
    "    spikes_loc = np.random.poisson(inst_rate/sampling_rate)\n",
    "    sp = np.argwhere(spikes_loc)\n",
    "    t_sp = t_sampling[sp]\n",
    "    spikes.append(t_sp)"
   ]
  },
  {
   "cell_type": "code",
   "execution_count": 5,
   "metadata": {},
   "outputs": [],
   "source": [
    "import pickle\n",
    "\n",
    "file_name = 'linear_track_data.pickle' # change this name when you save new data\n",
    "\n",
    "out_data = {}\n",
    "out_data['x'] = x\n",
    "out_data['t'] = t\n",
    "out_data['spikes'] = spikes\n",
    "out_data['track_length'] = track_length\n",
    "out_data['fps'] = fps\n",
    "\n",
    "with open('data/'+file_name,'wb') as f:\n",
    "    pickle.dump(out_data,f)"
   ]
  },
  {
   "cell_type": "markdown",
   "metadata": {},
   "source": [
    "## Exercise 1\n",
    "---\n",
    "\n",
    "You can find below the code that was used to generate the activity of place cells on a linear track.\n",
    "Use the code and the decoding procedure you lerned about in the lesson to explore how different characteristic of the data impact our ability to decode position.\n",
    "In particular:\n",
    "\n",
    "A - Try to use different fraction of our data samples. How does the median error change when the the number of available sample gets larger? You do not need to re-generate any data, just randomly sub-sample the data to different fractions.\n",
    "\n",
    "B - How many place cells do we need to reliably decode? Try to re-do the decoding using only 10 cell, then 20, and so on. How does the median error change? Does it reach an asymptote? (Also in this case, you do not need to re-generate the data, you can just select a random subset of cells each time)\n",
    "\n",
    "C - Generate new data using the code below, changing the firing rate noise (changing the value of the variable `noise firing_rate`). How does this noise impact the decoding? \n",
    "# A"
   ]
  },
  {
   "cell_type": "code",
   "execution_count": 6,
   "metadata": {},
   "outputs": [
    {
     "name": "stderr",
     "output_type": "stream",
     "text": [
      "100%|████████████████████████████████████████| 577/577 [00:01<00:00, 298.27it/s]\n",
      "100%|██████████████████████████████████████| 1155/1155 [00:04<00:00, 286.39it/s]\n",
      "100%|██████████████████████████████████████| 1733/1733 [00:05<00:00, 315.39it/s]\n",
      "100%|██████████████████████████████████████| 2311/2311 [00:07<00:00, 324.00it/s]\n",
      "100%|██████████████████████████████████████| 2889/2889 [00:08<00:00, 326.75it/s]\n",
      "100%|██████████████████████████████████████| 4623/4623 [00:14<00:00, 321.63it/s]\n"
     ]
    }
   ],
   "source": [
    "# Define the fractions of data samples to explore\n",
    "fractions = [0.1, 0.2,0.3, 0.4, 0.5, 0.8]\n",
    "\n",
    "# Perform decoding for each fraction\n",
    "median_errors = np.zeros(len(fractions))\n",
    "\n",
    "\n",
    "for i in range(len(fractions)):\n",
    "    fraction = fractions[i]\n",
    "    num_samples = int(len(x) * fraction)\n",
    "    random_indices = np.sort(np.random.choice(range(len(x)), size=num_samples, replace=False))\n",
    "    sub_x = x[random_indices]\n",
    "    sub_t = t[random_indices]\n",
    "    spike_positions = [np.interp(s, sub_t, sub_x) for s in spikes]\n",
    "    space_bins = np.arange(0., track_length, 5.) # binnin in bins of 5 cms\n",
    "\n",
    "    # we compute histograms for each cell\n",
    "    spikes_hist= [np.histogram(s, space_bins)[0] for s in spike_positions]\n",
    "    spikes_hist = np.asarray(spikes_hist)#np.vstack(spikes_hist).astype(np.float64)\n",
    "\n",
    "    # we also need an \"occupancy histogram\" in order to normalize the firing rates maps \n",
    "    occupancy = np.histogram(sub_x, space_bins)[0] /  fps\n",
    "    \n",
    "    firing_rate_maps = spikes_hist / occupancy \n",
    "\n",
    "    spikes_count= [np.histogram(s,sub_t)[0] for s in spikes]\n",
    "    spikes_count = np.asarray(spikes_count).T # we transpose the matrix to have the more familiar samples x features shape\n",
    "\n",
    "    true_x = sub_x[:-1]\n",
    "    decoding_times = sub_t[:-1]\n",
    "    x_decoded = np.zeros_like(true_x)\n",
    "\n",
    "    #calculate posterior and decode\n",
    "    for t_bin in tqdm(range(len(decoding_times))):\n",
    "        if sum(spikes_count[t_bin,:])>0: # Check if the time window contains spikes\n",
    "            posterior = np.empty(firing_rate_maps.shape[-1])\n",
    "\n",
    "            for j in range(len(posterior)):\n",
    "                # Note that we work with log so that we can sum probabilities\n",
    "                # instead of multiplying them \n",
    "                #posterior[i] = sum(np.log(poisson.pmf(spikes_count[t_bin,:],firing_rate_maps[:,i]/fps)+pow(1,-15)))\n",
    "                posterior[j] = sum(poisson.logpmf(spikes_count[t_bin,:],firing_rate_maps[:,j]/fps)+pow(1,-15))\n",
    "\n",
    "\n",
    "            x_decoded[t_bin] = space_bins[np.argmax(posterior)]\n",
    "        else:\n",
    "            x_decoded[t_bin] = np.nan   \n",
    "\n",
    "    #compute error\n",
    "    mse = np.sqrt((true_x-x_decoded)**2)\n",
    "    median_error = np.nanmedian(np.sqrt((true_x-x_decoded)**2))\n",
    "    median_errors[i] = median_error\n"
   ]
  },
  {
   "cell_type": "code",
   "execution_count": 7,
   "metadata": {},
   "outputs": [
    {
     "data": {
      "text/plain": [
       "Text(0, 0.5, 'median error')"
      ]
     },
     "execution_count": 7,
     "metadata": {},
     "output_type": "execute_result"
    },
    {
     "data": {
      "image/png": "[encoded data removed]",
      "text/plain": [
       "<Figure size 1000x500 with 1 Axes>"
      ]
     },
     "metadata": {},
     "output_type": "display_data"
    }
   ],
   "source": [
    "plt.plot(fractions,median_errors)\n",
    "plt.xlabel('fraction $f$')\n",
    "plt.ylabel('median error')"
   ]
  },
  {
   "cell_type": "markdown",
   "metadata": {},
   "source": [
    "The median error decreases as a function of $f$. Furthermore, an $f$ of about .3 seems to be sufficient for good decoding."
   ]
  },
  {
   "cell_type": "markdown",
   "metadata": {},
   "source": [
    "# B"
   ]
  },
  {
   "cell_type": "code",
   "execution_count": 8,
   "metadata": {},
   "outputs": [
    {
     "name": "stderr",
     "output_type": "stream",
     "text": [
      "100%|██████████████████████████████████████| 5780/5780 [00:08<00:00, 717.25it/s]\n",
      "100%|██████████████████████████████████████| 5780/5780 [00:12<00:00, 464.44it/s]\n",
      "100%|██████████████████████████████████████| 5780/5780 [00:12<00:00, 451.55it/s]\n",
      "100%|██████████████████████████████████████| 5780/5780 [00:14<00:00, 395.01it/s]\n",
      "100%|██████████████████████████████████████| 5780/5780 [00:17<00:00, 328.10it/s]\n",
      "100%|██████████████████████████████████████| 5780/5780 [00:18<00:00, 319.81it/s]\n"
     ]
    }
   ],
   "source": [
    "n_cells_list = [10,20,30,50,80,100] # how many cells we are recording\n",
    "\n",
    "median_errors = np.zeros(len(n_cells_list))\n",
    "\n",
    "for i in range(len(n_cells_list)):\n",
    "    num_cells = n_cells_list[i]\n",
    "    random_indices = np.sort(np.random.choice(len(spikes), size=num_cells, replace=False))\n",
    "    sub_spikes = [spikes[i] for i in random_indices]\n",
    "    spike_positions = [np.interp(s, t, x) for s in sub_spikes]\n",
    "    space_bins = np.arange(0., track_length, 5.) # binnin in bins of 5 cms\n",
    "\n",
    "    # we compute histograms for each cell\n",
    "    spikes_hist= [np.histogram(s, space_bins)[0] for s in spike_positions]\n",
    "    spikes_hist = np.asarray(spikes_hist)#np.vstack(spikes_hist).astype(np.float64)\n",
    "\n",
    "    # we also need an \"occupancy histogram\" in order to normalize the firing rates maps \n",
    "    occupancy = np.histogram(x, space_bins)[0] /  fps\n",
    "    \n",
    "    firing_rate_maps = spikes_hist / occupancy \n",
    "\n",
    "    spikes_count= [np.histogram(s,t)[0] for s in sub_spikes]\n",
    "    spikes_count = np.asarray(spikes_count).T # we transpose the matrix to have the more familiar samples x features shape\n",
    "\n",
    "    true_x = x[:-1]\n",
    "    decoding_times = t[:-1]\n",
    "    x_decoded = np.zeros_like(true_x)\n",
    "\n",
    "    #calculate posterior and decode\n",
    "    for t_bin in tqdm(range(len(decoding_times))):\n",
    "        if sum(spikes_count[t_bin,:])>0: # Check if the time window contains spikes\n",
    "            posterior = np.empty(firing_rate_maps.shape[-1])\n",
    "\n",
    "            for j in range(len(posterior)):\n",
    "                # Note that we work with log so that we can sum probabilities\n",
    "                # instead of multiplying them \n",
    "                #posterior[i] = sum(np.log(poisson.pmf(spikes_count[t_bin,:],firing_rate_maps[:,i]/fps)+pow(1,-15)))\n",
    "                posterior[j] = sum(poisson.logpmf(spikes_count[t_bin,:],firing_rate_maps[:,j]/fps)+pow(1,-15))\n",
    "\n",
    "\n",
    "            x_decoded[t_bin] = space_bins[np.argmax(posterior)]\n",
    "        else:\n",
    "            x_decoded[t_bin] = np.nan   \n",
    "\n",
    "    #compute error\n",
    "    mse = np.sqrt((true_x-x_decoded)**2)\n",
    "    median_error = np.nanmedian(np.sqrt((true_x-x_decoded)**2))\n",
    "    median_errors[i] = median_error\n"
   ]
  },
  {
   "cell_type": "code",
   "execution_count": 9,
   "metadata": {},
   "outputs": [
    {
     "data": {
      "text/plain": [
       "Text(0, 0.5, 'median error')"
      ]
     },
     "execution_count": 9,
     "metadata": {},
     "output_type": "execute_result"
    },
    {
     "data": {
      "image/png": "[encoded data removed]",
      "text/plain": [
       "<Figure size 1000x500 with 1 Axes>"
      ]
     },
     "metadata": {},
     "output_type": "display_data"
    }
   ],
   "source": [
    "plt.plot(n_cells_list,median_errors)\n",
    "plt.xlabel('n_cells')\n",
    "plt.ylabel('median error')"
   ]
  },
  {
   "cell_type": "markdown",
   "metadata": {},
   "source": [
    "Again, the median error decreases as a function of increasing number of place cells. It seems to reach an asymptote around `n_cells` = 100."
   ]
  },
  {
   "cell_type": "markdown",
   "metadata": {
    "tags": []
   },
   "source": [
    "# C"
   ]
  },
  {
   "cell_type": "code",
   "execution_count": 10,
   "metadata": {},
   "outputs": [
    {
     "name": "stderr",
     "output_type": "stream",
     "text": [
      "100%|██████████████████████████████████████| 5780/5780 [00:17<00:00, 327.54it/s]\n",
      "100%|██████████████████████████████████████| 5780/5780 [00:17<00:00, 321.56it/s]\n",
      "100%|██████████████████████████████████████| 5780/5780 [00:17<00:00, 325.61it/s]\n",
      "100%|██████████████████████████████████████| 5780/5780 [00:17<00:00, 329.97it/s]\n",
      "100%|██████████████████████████████████████| 5780/5780 [00:17<00:00, 321.63it/s]\n"
     ]
    }
   ],
   "source": [
    "noise_firing_rates = np.array([.1,.4,1,2,5]) # the baseline noise firing rate\n",
    "    \n",
    "median_errors = np.zeros(len(noise_firing_rates))\n",
    "\n",
    "for i in range(len(noise_firing_rates)):\n",
    "    noise_firing_rate = noise_firing_rates[i]\n",
    "    spikes = []\n",
    "    for idx in range(n_cells):\n",
    "        inst_rate = true_firing_rate_maps[idx,x_sampling.astype(np.int32)] + noise_firing_rate\n",
    "        spikes_loc = np.random.poisson(inst_rate/sampling_rate)\n",
    "        sp = np.argwhere(spikes_loc)\n",
    "        t_sp = t_sampling[sp]\n",
    "        spikes.append(t_sp)\n",
    "    \n",
    "    spike_positions = [np.interp(s, t, x) for s in spikes]\n",
    "    space_bins = np.arange(0., track_length, 5.) # binnin in bins of 5 cms\n",
    "\n",
    "    # we compute histograms for each cell\n",
    "    spikes_hist= [np.histogram(s, space_bins)[0] for s in spike_positions]\n",
    "    spikes_hist = np.asarray(spikes_hist)#np.vstack(spikes_hist).astype(np.float64)\n",
    "\n",
    "    # we also need an \"occupancy histogram\" in order to normalize the firing rates maps \n",
    "    occupancy = np.histogram(x, space_bins)[0] /  fps\n",
    "    \n",
    "    firing_rate_maps = spikes_hist / occupancy \n",
    "\n",
    "    spikes_count= [np.histogram(s,t)[0] for s in sub_spikes]\n",
    "    spikes_count = np.asarray(spikes_count).T # we transpose the matrix to have the more familiar samples x features shape\n",
    "\n",
    "    true_x = x[:-1]\n",
    "    decoding_times = t[:-1]\n",
    "    x_decoded = np.zeros_like(true_x)\n",
    "\n",
    "    #calculate posterior and decode\n",
    "    for t_bin in tqdm(range(len(decoding_times))):\n",
    "        if sum(spikes_count[t_bin,:])>0: # Check if the time window contains spikes\n",
    "            posterior = np.empty(firing_rate_maps.shape[-1])\n",
    "\n",
    "            for j in range(len(posterior)):\n",
    "                # Note that we work with log so that we can sum probabilities\n",
    "                # instead of multiplying them \n",
    "                #posterior[i] = sum(np.log(poisson.pmf(spikes_count[t_bin,:],firing_rate_maps[:,i]/fps)+pow(1,-15)))\n",
    "                posterior[j] = sum(poisson.logpmf(spikes_count[t_bin,:],firing_rate_maps[:,j]/fps)+pow(1,-15))\n",
    "\n",
    "\n",
    "            x_decoded[t_bin] = space_bins[np.argmax(posterior)]\n",
    "        else:\n",
    "            x_decoded[t_bin] = np.nan   \n",
    "\n",
    "    #compute error\n",
    "    mse = np.sqrt((true_x-x_decoded)**2)\n",
    "    median_error = np.nanmedian(np.sqrt((true_x-x_decoded)**2))\n",
    "    median_errors[i] = median_error"
   ]
  },
  {
   "cell_type": "code",
   "execution_count": 11,
   "metadata": {},
   "outputs": [
    {
     "data": {
      "text/plain": [
       "Text(0, 0.5, 'median error')"
      ]
     },
     "execution_count": 11,
     "metadata": {},
     "output_type": "execute_result"
    },
    {
     "data": {
      "image/png": "[encoded data removed]",
      "text/plain": [
       "<Figure size 1000x500 with 1 Axes>"
      ]
     },
     "metadata": {},
     "output_type": "display_data"
    }
   ],
   "source": [
    "plt.plot(noise_firing_rates,median_errors)\n",
    "plt.xlabel('noise')\n",
    "plt.ylabel('median error')"
   ]
  },
  {
   "cell_type": "markdown",
   "metadata": {},
   "source": [
    "The amount of baseline noise negatively impacts the quality of the decoding. This is of course expected, since more baseline firing rate noise decreases the SNR. "
   ]
  },
  {
   "cell_type": "markdown",
   "metadata": {},
   "source": [
    "## Exercise 2\n",
    "---\n",
    "In the loop implementation of the decoder, we used `poisson.logpmf(k,mu)` to calculate the log probability of observing $k$ spikes given an average firing rate of $\\mu$. \n",
    "This is mathematically equivalent to `np.log(poisson.pmf(k,mu))`, in which we calculate the probability, and then take the log.\n",
    "\n",
    "\n",
    "Re-run the decoding substituting this expression:\n",
    "\n",
    "```\n",
    "posterior[i] = sum(np.log(poisson.pmf(spikes_count[t_bin,:],firing_rate_maps[:,i]/fps)+pow(1,-15)))\n",
    "```\n",
    "\n",
    "To the line we are using to calculate the posterior.\n",
    "Do you see any difference in the results? What do you think this is due to?"
   ]
  },
  {
   "cell_type": "code",
   "execution_count": 12,
   "metadata": {},
   "outputs": [],
   "source": [
    "#first regenerate data using normal noise values\n",
    "noise_firing_rate = 0.1 # the baseline noise firing rate\n",
    "spikes = []\n",
    "\n",
    "for i in range(n_cells):\n",
    "    inst_rate = true_firing_rate_maps[i,x_sampling.astype(np.int32)] + noise_firing_rate\n",
    "    spikes_loc = np.random.poisson(inst_rate/sampling_rate)\n",
    "    sp = np.argwhere(spikes_loc)\n",
    "    t_sp = t_sampling[sp]\n",
    "    spikes.append(t_sp)"
   ]
  },
  {
   "cell_type": "code",
   "execution_count": 13,
   "metadata": {},
   "outputs": [
    {
     "name": "stderr",
     "output_type": "stream",
     "text": [
      "100%|██████████████████████████████████████| 5780/5780 [00:24<00:00, 237.41it/s]\n"
     ]
    }
   ],
   "source": [
    "spike_positions = [np.interp(s, t, x) for s in spikes]\n",
    "space_bins = np.arange(0., track_length, 5.) # binnin in bins of 5 cms\n",
    "\n",
    "# we compute histograms for each cell\n",
    "spikes_hist= [np.histogram(s, space_bins)[0] for s in spike_positions]\n",
    "spikes_hist = np.asarray(spikes_hist)#np.vstack(spikes_hist).astype(np.float64)\n",
    "\n",
    "# we also need an \"occupancy histogram\" in order to normalize the firing rates maps \n",
    "occupancy = np.histogram(x, space_bins)[0] /  fps\n",
    "    \n",
    "firing_rate_maps = spikes_hist / occupancy \n",
    "\n",
    "spikes_count= [np.histogram(s,t)[0] for s in sub_spikes]\n",
    "spikes_count = np.asarray(spikes_count).T # we transpose the matrix to have the more familiar samples x features shape\n",
    "\n",
    "true_x = x[:-1]\n",
    "decoding_times = t[:-1]\n",
    "x_decoded = np.zeros_like(true_x)\n",
    "\n",
    "#calculate posterior and decode\n",
    "for t_bin in tqdm(range(len(decoding_times))):\n",
    "    if sum(spikes_count[t_bin,:])>0: # Check if the time window contains spikes\n",
    "        posterior = np.empty(firing_rate_maps.shape[-1])\n",
    "\n",
    "        for j in range(len(posterior)):\n",
    "            # Note that we work with log so that we can sum probabilities\n",
    "            # instead of multiplying them \n",
    "            posterior[j] = sum(np.log(poisson.pmf(spikes_count[t_bin,:],firing_rate_maps[:,j]/fps)+pow(1,-15)))\n",
    "            #posterior[j] = sum(poisson.logpmf(spikes_count[t_bin,:],firing_rate_maps[:,j]/fps)+pow(1,-15))\n",
    "\n",
    "\n",
    "        x_decoded[t_bin] = space_bins[np.argmax(posterior)]\n",
    "    else:\n",
    "        x_decoded[t_bin] = np.nan  "
   ]
  },
  {
   "cell_type": "code",
   "execution_count": 14,
   "metadata": {},
   "outputs": [
    {
     "name": "stdout",
     "output_type": "stream",
     "text": [
      "Median error: 5.450605084663055 cm\n"
     ]
    },
    {
     "data": {
      "image/png": "[encoded data removed]",
      "text/plain": [
       "<Figure size 1000x500 with 1 Axes>"
      ]
     },
     "metadata": {},
     "output_type": "display_data"
    }
   ],
   "source": [
    "# error distribution\n",
    "mse = np.sqrt((true_x-x_decoded)**2)\n",
    "sns.histplot(mse)\n",
    "plt.axvline(x = np.nanmedian(mse),c='r')\n",
    "print(f'Median error: {np.nanmedian(mse)} cm')"
   ]
  },
  {
   "cell_type": "markdown",
   "metadata": {},
   "source": [
    "Using `poisson.logpmf` I get a median error of about 4.5 cm. Using `np.log(poisson.pmf)` I get a median error of about 5.3, which is a higher median error. By using `poisson.logpmf`, the calculations involve additions and subtractions rather than multiplications and divisions. This helps to minimize issues related to numerical precision, especially when dealing with very small probabilities."
   ]
  },
  {
   "cell_type": "markdown",
   "metadata": {},
   "source": [
    "## Exercise 3\n",
    "---\n",
    "A - Estimate the quality of the sequence detection methods we saw in the lesson. How many false poistive does it find? How many false negatives?\n",
    "\n",
    "B - Investigate the effect of `noise_x_react` and `noise_t_react` on the false positive rate and the false negative rate of our detection procedure.\n",
    "\n",
    "C - What kind of sequence can our methods detect? What kind of activity, despide being sequential, could escape our detection method? Would you have an idea for a different method for sequence detection?\n"
   ]
  },
  {
   "cell_type": "markdown",
   "metadata": {},
   "source": [
    "# A"
   ]
  },
  {
   "cell_type": "markdown",
   "metadata": {},
   "source": [
    "First, the code for data generation:"
   ]
  },
  {
   "cell_type": "code",
   "execution_count": 15,
   "metadata": {},
   "outputs": [],
   "source": [
    "# generate data \n",
    "\n",
    "n_events = 200 # number of reactivation events\n",
    "event_duration = 100 # in bins\n",
    "sampling_rate = 100 # sampling rate \n",
    "t_react = np.arange(0,100)\n",
    "noise_x_react=5; # Noise in the reactivation of the sequence\n",
    "noise_t_react=5; # Noise in the timing of the spikes \n",
    "noise_firing_rate = .1 # the baseline noise firing rate\n",
    "\n",
    "\n",
    "reactivation_events = np.zeros((n_events,event_duration))\n",
    "spikes_react = np.zeros((n_events,n_cells,event_duration))\n",
    "\n",
    "for event in range(n_events):\n",
    "    if(event<=n_events//2):\n",
    "    #Generate \"real\" sequences for the first half of events\n",
    "        x_start = np.random.uniform(0,track_length) # Starting point\n",
    "        x_end = np.random.uniform(0,track_length) # Ending point\n",
    "        x_react = np.linspace(x_start,x_end,event_duration) \\\n",
    "            +np.random.normal(0,noise_x_react,size=event_duration)\n",
    "\n",
    "    else:\n",
    "        #Pick locations randomly for the second half \n",
    "        x_react = np.random.uniform(0,track_length,size=event_duration);\n",
    "\n",
    "    x_react[x_react<0]=0;\n",
    "    x_react[x_react>track_length]=track_length\n",
    "    \n",
    "    #store reactivation sequence\n",
    "    reactivation_events[event,:] = x_react\n",
    "\n",
    "    \n",
    "    # Generate spikes according to the location being reactivated in this event\n",
    "    \n",
    "    for i in range(n_cells):\n",
    "        binned_x = np.digitize(x_react,bins=np.linspace(0,track_length,firing_rate_maps.shape[-1]))-1\n",
    "        inst_rate = firing_rate_maps[i,binned_x] + np.random.normal(0,noise_firing_rate,size=len(binned_x))\n",
    "        inst_rate[inst_rate<0] = 0\n",
    "        spikes_loc = np.where(np.random.poisson(inst_rate/sampling_rate)>0)\n",
    "        spikes_loc = spikes_loc + np.round(np.random.normal(0,noise_t_react,size=len(spikes_loc)))\n",
    "        spikes_loc = spikes_loc[np.logical_and(spikes_loc>0,spikes_loc<event_duration)]\n",
    "        spikes_react[event,i,spikes_loc.astype(int)] = 1\n",
    "        \n",
    "    \n"
   ]
  },
  {
   "cell_type": "code",
   "execution_count": 16,
   "metadata": {},
   "outputs": [],
   "source": [
    "pfc_idxs = [np.argmax(rate_map) for rate_map in firing_rate_maps] \n",
    "sorted_idxs = np.argsort(pfc_idxs)"
   ]
  },
  {
   "cell_type": "code",
   "execution_count": 17,
   "metadata": {},
   "outputs": [],
   "source": [
    "time_window = 10 # number of bins to aggregate during decoding\n",
    "\n",
    "reactivation_slope = np.zeros(n_events)\n",
    "\n",
    "for event in range(n_events):\n",
    "\n",
    "    event_spikes = spikes_react[event]\n",
    "    # First we bin the events in windows of 10 bins\n",
    "    spikes_sampled = np.zeros((n_cells,event_spikes.shape[1]//time_window))\n",
    "    # We generate a new spike matrix with the re-sized window\n",
    "    for t_r in range(1,event_spikes.shape[1]//time_window):\n",
    "        spikes_sampled[:,t_r] = np.sum(event_spikes[:,(t_r-1)*time_window :(t_r)*time_window],axis=1)"
   ]
  },
  {
   "cell_type": "code",
   "execution_count": 18,
   "metadata": {},
   "outputs": [],
   "source": [
    "# to do: bayesian decoding\n",
    "from scipy.stats import poisson\n",
    "from scipy.stats import pearsonr\n",
    "\n",
    "t_resize = 10 # We use spikes from multiple time windows for the decoding\n",
    "\n",
    "reactivation_slopes = np.zeros(n_events)\n",
    "reactivation_pvalues = np.zeros(n_events)\n",
    "\n",
    "for event in range(n_events):\n",
    "\n",
    "    event_spikes = spikes_react[event]\n",
    "    spikes_sampled = np.zeros((n_cells,event_spikes.shape[1]//t_resize))\n",
    "\n",
    "    # We generate a new spike matrix with the re-sized window\n",
    "    for t_r in range(1,event_spikes.shape[1]//t_resize):\n",
    "        spikes_sampled[:,t_r] = np.sum(event_spikes[:,(t_r-1)*t_resize :(t_r)*t_resize],axis=1)\n",
    "\n",
    "\n",
    "    # We then perform decoding on the aggregated spikes\n",
    "    x_decoded = np.zeros(spikes_sampled.shape[1])\n",
    "\n",
    "    for t_bin in range(spikes_sampled.shape[1]):\n",
    "\n",
    "        if sum(spikes_count[t_bin,:])>0: # Check if the time window contains spikes\n",
    "\n",
    "            posterior = np.empty(firing_rate_maps.shape[-1])\n",
    "            for i in range(len(posterior)):\n",
    "                posterior[i] = sum(poisson.logpmf(spikes_sampled[:,t_bin],firing_rate_maps[:,i]*t_resize/fps)+pow(1,-15))\n",
    "\n",
    "            x_decoded[t_bin] = space_bins[np.argmax(posterior)]\n",
    "\n",
    "        else:\n",
    "            x_decoded[t_bin] = np.nan   \n",
    "\n",
    "        # We fit a line to the decoded positions, and save the slope\n",
    "        idx = np.isfinite(x_decoded)\n",
    "        slope,_ = np.polyfit(np.arange(len(x_decoded[idx])),x_decoded[idx],deg=1)\n",
    "        reactivation_slopes[event] = slope\n",
    "        # And calculate the pvalue of the pearson correlation\n",
    "        corr = pearsonr(np.arange(len(x_decoded[idx])),x_decoded[idx])\n",
    "        reactivation_pvalues[event] = corr[1]\n"
   ]
  },
  {
   "cell_type": "markdown",
   "metadata": {},
   "source": [
    "N.B.: I added the idx line to remove the nan values, for some reason the polyfit could not handle nan inputs."
   ]
  },
  {
   "cell_type": "markdown",
   "metadata": {},
   "source": [
    "To count the number of false positive / false negatives, we know that the first 100 events are sequential, and the others are not. I define a threshold of 0.05 for the correlations to indicate significance of the slope method. First lets determine the sequence events:"
   ]
  },
  {
   "cell_type": "code",
   "execution_count": 19,
   "metadata": {},
   "outputs": [],
   "source": [
    "sequential_event_indices = []\n",
    "threshold = 0.05\n",
    "\n",
    "for event in range(n_events):\n",
    "    if reactivation_pvalues[event] < threshold:\n",
    "        sequential_event_indices.append(event)\n",
    "        \n",
    "sequential_event_indices = np.array(sequential_event_indices)\n"
   ]
  },
  {
   "cell_type": "markdown",
   "metadata": {},
   "source": [
    "Now count the number of false positives and false negatives:"
   ]
  },
  {
   "cell_type": "code",
   "execution_count": 20,
   "metadata": {},
   "outputs": [
    {
     "data": {
      "text/plain": [
       "(4, 81)"
      ]
     },
     "execution_count": 20,
     "metadata": {},
     "output_type": "execute_result"
    }
   ],
   "source": [
    "ground_truth = np.arange(100) #first 100 events are sequential\n",
    "false_positives = np.setdiff1d(sequential_event_indices, ground_truth) #returns set difference between arrays\n",
    "false_negatives = np.setdiff1d(ground_truth, sequential_event_indices)\n",
    "false_positive_count = len(false_positives)\n",
    "false_negative_count = len(false_negatives)\n",
    "false_positive_count,false_negative_count"
   ]
  },
  {
   "cell_type": "markdown",
   "metadata": {},
   "source": [
    "It seems that our sequence method is quite conservative in determining if there was a sequence, since there are not many false positives but there are many false negatives. We will check if this can be improved in the next question."
   ]
  },
  {
   "cell_type": "markdown",
   "metadata": {},
   "source": [
    "# B"
   ]
  },
  {
   "cell_type": "markdown",
   "metadata": {},
   "source": [
    "The following chunck of code does the algorithm for different noise values:"
   ]
  },
  {
   "cell_type": "code",
   "execution_count": 25,
   "metadata": {},
   "outputs": [
    {
     "name": "stderr",
     "output_type": "stream",
     "text": [
      "100%|███████████████████████████████████████████| 10/10 [01:36<00:00,  9.69s/it]\n"
     ]
    },
    {
     "data": {
      "text/plain": [
       "array([[ 7., 77.],\n",
       "       [ 4., 76.],\n",
       "       [ 3., 77.],\n",
       "       [ 2., 83.],\n",
       "       [ 5., 84.],\n",
       "       [ 2., 81.],\n",
       "       [ 4., 79.],\n",
       "       [ 4., 79.],\n",
       "       [ 7., 89.],\n",
       "       [ 9., 90.]])"
      ]
     },
     "execution_count": 25,
     "metadata": {},
     "output_type": "execute_result"
    }
   ],
   "source": [
    "vals = np.array([0,.1,.2,.4,.8,1.6,3.2,6.4,12.8,25.6])\n",
    "false_positives_negatives = np.zeros([len(vals),2]) #first column is false positives\n",
    "\n",
    "\n",
    "for j in tqdm(range(len(vals))):\n",
    "    noise_x_react = vals[j]; #or set to a scalar and change the other\n",
    "    noise_t_react = vals[j]; \n",
    "    reactivation_events = np.zeros((n_events,event_duration))\n",
    "    spikes_react = np.zeros((n_events,n_cells,event_duration))\n",
    "    for event in range(n_events):\n",
    "        if(event<=n_events//2):\n",
    "        #Generate \"real\" sequences for the first half of events\n",
    "            x_start = np.random.uniform(0,track_length) # Starting point\n",
    "            x_end = np.random.uniform(0,track_length) # Ending point\n",
    "            x_react = np.linspace(x_start,x_end,event_duration) \\\n",
    "                +np.random.normal(0,noise_x_react,size=event_duration)\n",
    "\n",
    "        else:\n",
    "            #Pick locations randomly for the second half \n",
    "            x_react = np.random.uniform(0,track_length,size=event_duration);\n",
    "\n",
    "        x_react[x_react<0]=0;\n",
    "        x_react[x_react>track_length]=track_length\n",
    "    \n",
    "        #store reactivation sequence\n",
    "        reactivation_events[event,:] = x_react\n",
    "\n",
    "    \n",
    "        # Generate spikes according to the location being reactivated in this event\n",
    "    \n",
    "        for i in range(n_cells):\n",
    "            binned_x = np.digitize(x_react,bins=np.linspace(0,track_length,firing_rate_maps.shape[-1]))-1\n",
    "            inst_rate = firing_rate_maps[i,binned_x] + np.random.normal(0,noise_firing_rate,size=len(binned_x))\n",
    "            inst_rate[inst_rate<0] = 0\n",
    "            spikes_loc = np.where(np.random.poisson(inst_rate/sampling_rate)>0)\n",
    "            spikes_loc = spikes_loc + np.round(np.random.normal(0,noise_t_react,size=len(spikes_loc)))\n",
    "            spikes_loc = spikes_loc[np.logical_and(spikes_loc>0,spikes_loc<event_duration)]\n",
    "            spikes_react[event,i,spikes_loc.astype(int)] = 1    \n",
    "            \n",
    "    time_window = 10 # number of bins to aggregate during decoding\n",
    "\n",
    "    reactivation_slope = np.zeros(n_events)\n",
    "\n",
    "    for event in range(n_events):\n",
    "\n",
    "        event_spikes = spikes_react[event]\n",
    "        # First we bin the events in windows of 10 bins\n",
    "        spikes_sampled = np.zeros((n_cells,event_spikes.shape[1]//time_window))\n",
    "        # We generate a new spike matrix with the re-sized window\n",
    "        for t_r in range(1,event_spikes.shape[1]//time_window):\n",
    "            spikes_sampled[:,t_r] = np.sum(event_spikes[:,(t_r-1)*time_window :(t_r)*time_window],axis=1) \n",
    "     \n",
    "    t_resize = 10 # We use spikes from multiple time windows for the decoding\n",
    "\n",
    "    reactivation_slopes = np.zeros(n_events)\n",
    "    reactivation_pvalues = np.zeros(n_events)\n",
    "\n",
    "    for event in range(n_events):\n",
    "\n",
    "        event_spikes = spikes_react[event]\n",
    "        spikes_sampled = np.zeros((n_cells,event_spikes.shape[1]//t_resize))\n",
    "\n",
    "        # We generate a new spike matrix with the re-sized window\n",
    "        for t_r in range(1,event_spikes.shape[1]//t_resize):\n",
    "            spikes_sampled[:,t_r] = np.sum(event_spikes[:,(t_r-1)*t_resize :(t_r)*t_resize],axis=1)\n",
    "\n",
    "\n",
    "        # We then perform decoding on the aggregated spikes\n",
    "        x_decoded = np.zeros(spikes_sampled.shape[1])\n",
    "\n",
    "        for t_bin in range(spikes_sampled.shape[1]):\n",
    "\n",
    "            if sum(spikes_count[t_bin,:])>0: # Check if the time window contains spikes\n",
    "\n",
    "                posterior = np.empty(firing_rate_maps.shape[-1])\n",
    "                for i in range(len(posterior)):\n",
    "                    posterior[i] = sum(poisson.logpmf(spikes_sampled[:,t_bin],firing_rate_maps[:,i]*t_resize/fps)+pow(1,-15))\n",
    "\n",
    "                x_decoded[t_bin] = space_bins[np.argmax(posterior)]\n",
    "\n",
    "            else:\n",
    "                x_decoded[t_bin] = np.nan   \n",
    "\n",
    "            # We fit a line to the decoded positions, and save the slope\n",
    "            idx = np.isfinite(x_decoded)\n",
    "            slope,_ = np.polyfit(np.arange(len(x_decoded[idx])),x_decoded[idx],deg=1)\n",
    "            reactivation_slopes[event] = slope\n",
    "            # And calculate the pvalue of the pearson correlation\n",
    "            corr = pearsonr(np.arange(len(x_decoded[idx])),x_decoded[idx])\n",
    "            reactivation_pvalues[event] = corr[1]\n",
    "            \n",
    "    sequential_event_indices = []\n",
    "    threshold = 0.05\n",
    "\n",
    "    for event in range(n_events):\n",
    "        if reactivation_pvalues[event] < threshold:\n",
    "            sequential_event_indices.append(event)\n",
    "        \n",
    "    sequential_event_indices = np.array(sequential_event_indices)\n",
    "\n",
    "    ground_truth = np.arange(100) #first 100 events are sequential\n",
    "    false_positives = np.setdiff1d(sequential_event_indices, ground_truth) #returns set difference between arrays\n",
    "    false_negatives = np.setdiff1d(ground_truth, sequential_event_indices)\n",
    "    false_positive_count = len(false_positives)\n",
    "    false_negative_count = len(false_negatives)\n",
    "    false_positives_negatives[j,0]=false_positive_count\n",
    "    false_positives_negatives[j,1]=false_negative_count\n",
    "    \n",
    "false_positives_negatives"
   ]
  },
  {
   "cell_type": "code",
   "execution_count": 26,
   "metadata": {},
   "outputs": [
    {
     "data": {
      "image/png": "[encoded data removed]",
      "text/plain": [
       "<Figure size 1000x500 with 1 Axes>"
      ]
     },
     "metadata": {},
     "output_type": "display_data"
    }
   ],
   "source": [
    "plt.plot(vals, false_positives_negatives[:,0], label='False Positives')\n",
    "plt.plot(vals, false_positives_negatives[:,1], label='False Negatives')\n",
    "plt.xscale('log', base=2)\n",
    "plt.xlabel('Noise Level')\n",
    "plt.ylabel('Count')\n",
    "plt.title('False Positives and False Negatives vs. Noise Level')\n",
    "plt.legend()\n",
    "plt.show()"
   ]
  },
  {
   "cell_type": "markdown",
   "metadata": {},
   "source": [
    "The amount of noise does not seem to affect our method by a large amount. For large noise values, the number of false negatives seems to increase a bit. But still, this is quite a good result. I also ran the block while only changing either noise_x_react or noise_t_react and the results are similar."
   ]
  },
  {
   "cell_type": "markdown",
   "metadata": {},
   "source": [
    "# C"
   ]
  },
  {
   "cell_type": "markdown",
   "metadata": {},
   "source": [
    "Our method is able to capture sequence events, but being conservative about it. There are several ways for our method to miss a sequence event. One scenario where our method could miss the detection is when the sequential activity occurs at a very fast timescale, below the resolution of our sampling rate or time window size. If the time window is too large or the sampling rate is too low, rapid sequential events might not be captured accurately.\n",
    "\n",
    "Additionally, our method assumes that the sequential activity patterns are linear in nature, and it fits a straight line to estimate the slope. If the sequential activity follows a non-linear trajectory or has complex dynamics, our method may not accurately capture the underlying sequence."
   ]
  }
 ],
 "metadata": {
  "kernelspec": {
   "display_name": "Python 3 (ipykernel)",
   "language": "python",
   "name": "python3"
  },
  "language_info": {
   "codemirror_mode": {
    "name": "ipython",
    "version": 3
   },
   "file_extension": ".py",
   "mimetype": "text/x-python",
   "name": "python",
   "nbconvert_exporter": "python",
   "pygments_lexer": "ipython3",
   "version": "3.10.10"
  },
  "vscode": {
   "interpreter": {
    "hash": "ec757111aa82fc412dab5a41ba1a33fdb6db5c8112df3ff06fec0dbff050b412"
   }
  }
 },
 "nbformat": 4,
 "nbformat_minor": 4
}
